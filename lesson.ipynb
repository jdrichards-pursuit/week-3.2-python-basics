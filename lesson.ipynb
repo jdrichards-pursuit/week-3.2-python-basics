{
 "cells": [
  {
   "cell_type": "markdown",
   "metadata": {},
   "source": [
    "# Python for JavaScript Developers: Variables, Data Types, Booleans, and Strings\n",
    "\n",
    "## 1. Variables in Python\n",
    "\n",
    "### 1.1 Declaration and Assignment\n",
    "\n",
    "In Python, variables are declared and used without explicit type declarations. This is due to Python's dynamic typing system, which allows variables to change type during runtime."
   ]
  },
  {
   "cell_type": "code",
   "execution_count": null,
   "metadata": {},
   "outputs": [],
   "source": [
    "# Python\n",
    "x = 5\n",
    "y = \"Hello, World!\"\n",
    "print(x)\n",
    "print(y)"
   ]
  },
  {
   "cell_type": "markdown",
   "metadata": {},
   "source": [
    "In JavaScript, you would typically use `var`, `let`, or `const`:\n",
    "\n",
    "```javascript\n",
    "// JavaScript\n",
    "let x = 5;\n",
    "const y = \"Hello, World!\";\n",
    "console.log(x);\n",
    "console.log(y);"
   ]
  },
  {
   "cell_type": "markdown",
   "metadata": {},
   "source": [
    "### 1.2 Naming Conventions\n",
    "\n",
    "Python uses snake_case for variable and function names, while JavaScript typically uses camelCase. It's important to follow language-specific conventions for code readability and consistency."
   ]
  },
  {
   "cell_type": "code",
   "execution_count": null,
   "metadata": {},
   "outputs": [],
   "source": [
    "# Python naming convention (snake_case)\n",
    "user_name = \"Alice\"\n",
    "total_count = 100\n",
    "\n",
    "# JavaScript naming convention (camelCase)\n",
    "# userName = \"Alice\";\n",
    "# totalCount = 100;"
   ]
  },
  {
   "cell_type": "markdown",
   "metadata": {},
   "source": [
    "## 2. Basic Data Types\n",
    "\n",
    "### 2.1 Numbers\n",
    "\n",
    "Python has three main number types: integers, floats and numbers.\n",
    "\n",
    "1. Integers: Whole numbers without a fractional component.\n",
    "2. Floats: Numbers with a decimal point or in scientific notation. Floats are used to represent real numbers in computers.\n",
    "\n",
    "Let's look at examples of each:"
   ]
  },
  {
   "cell_type": "code",
   "execution_count": null,
   "metadata": {},
   "outputs": [],
   "source": [
    "# Integers\n",
    "integer_num = 42\n",
    "print(f\"Integer: {integer_num}\")\n",
    "\n",
    "# Floats\n",
    "float_num = 3.14\n",
    "scientific_notation = 2.5e-3  # 2.5 * 10^-3\n",
    "print(f\"Float: {float_num}\")\n",
    "print(f\"Scientific notation: {scientific_notation}\")\n",
    "\n"
   ]
  },
  {
   "cell_type": "markdown",
   "metadata": {},
   "source": [
    "### 2.2 Floating-Point Precision\n",
    "\n",
    "It's important to note that floats in Python (like in most programming languages) are typically implemented using binary fractions. This can sometimes lead to surprising results due to the limitations of representing decimal fractions in binary.\n",
    "\n",
    "For example:"
   ]
  },
  {
   "cell_type": "code",
   "execution_count": null,
   "metadata": {},
   "outputs": [],
   "source": [
    "result = 1.2 + 2.3\n",
    "print(result)  # Expected: 3.5, Actual output may be slightly different\n",
    "print(f\"{result:.20f}\")  # Displaying more decimal places"
   ]
  },
  {
   "cell_type": "markdown",
   "metadata": {},
   "source": [
    "### 2.3 Arithmetic Operations\n",
    "\n",
    "Now let's explore some arithmetic operations one by one:"
   ]
  },
  {
   "cell_type": "code",
   "execution_count": null,
   "metadata": {},
   "outputs": [],
   "source": [
    "a = 5\n",
    "b = 3\n",
    "\n",
    "print(f\"Addition: {a + b}\")\n",
    "# print(f\"Subtraction: {a - b}\")\n",
    "# print(f\"Multiplication: {a * b}\")\n",
    "# print(f\"Division: {a / b}\")  # Always returns a float\n",
    "# print(f\"Integer division: {a // b}\")  # Rounds down to the nearest integer\n",
    "# print(f\"Modulo: {a % b}\")\n",
    "# print(f\"Exponentiation: {a ** b}\")"
   ]
  },
  {
   "cell_type": "markdown",
   "metadata": {},
   "source": [
    "Note the difference in division operations. In Python, `/` always returns a float, while `//` performs integer division.\n",
    "\n"
   ]
  },
  {
   "cell_type": "markdown",
   "metadata": {},
   "source": [
    "## 3. Booleans\n",
    "\n",
    "Booleans in Python are similar to JavaScript, but there are some key differences in what's considered truthy or falsy.\n",
    "\n",
    "### 3.1 Truthy and Falsy Values\n",
    "\n",
    "Python Falsy Values:\n",
    "- `False`\n",
    "- `None`\n",
    "- `0`\n",
    "- `0.0`\n",
    "- `''` (empty string)\n",
    "- `[]` (empty list)\n",
    "- `{}` (empty dictionary)\n",
    "- `()` (empty tuple)\n",
    "\n",
    "JavaScript Falsy Values:\n",
    "- `false`\n",
    "- `0`, `-0`\n",
    "- `0n` (BigInt zero)\n",
    "- `''`, `\"\"`, ` `` ` (empty strings)\n",
    "- `null`\n",
    "- `undefined`\n",
    "- `NaN`\n",
    "\n",
    "Let's see how this affects conditional statements:"
   ]
  },
  {
   "cell_type": "code",
   "execution_count": null,
   "metadata": {},
   "outputs": [],
   "source": [
    "# Python\n",
    "empty_list = []  # Similar to an empty array in JavaScript\n",
    "empty_dict = {}  # Similar to an empty object in JavaScript\n",
    "\n",
    "if empty_list:\n",
    "    print(\"This won't print because an empty list is falsy in Python\")\n",
    "else:\n",
    "    print(\"Empty list is falsy\")\n",
    "\n",
    "if empty_dict:\n",
    "    print(\"This won't print because an empty dict is falsy in Python\")\n",
    "else:\n",
    "    print(\"Empty dict is falsy\")"
   ]
  },
  {
   "cell_type": "markdown",
   "metadata": {},
   "source": [
    "In JavaScript, empty arrays and objects are truthy:\n",
    "\n",
    "```javascript\n",
    "// JavaScript\n",
    "const emptyArray = [];\n",
    "const emptyObject = {};\n",
    "\n",
    "if (emptyArray) {\n",
    "    console.log(\"This will print because an empty array is truthy in JavaScript\");\n",
    "}\n",
    "\n",
    "if (emptyObject) {\n",
    "    console.log(\"This will print because an empty object is truthy in JavaScript\");\n",
    "}"
   ]
  },
  {
   "cell_type": "markdown",
   "metadata": {},
   "source": [
    "### 3.2 Type Coercion and Equality Operators\n",
    "\n",
    "Python uses strict equality with == and doesn't perform implicit type coercion during comparisons. JavaScript, on the other hand, has both loose (==) and strict (===) equality operators."
   ]
  },
  {
   "cell_type": "code",
   "execution_count": null,
   "metadata": {},
   "outputs": [],
   "source": [
    "\n",
    "\n",
    "print(1 == '1')  # False\n",
    "print(1 == True)  # True (True is equivalent to 1)\n",
    "print(0 == False)  # True (False is equivalent to 0)"
   ]
  },
  {
   "cell_type": "markdown",
   "metadata": {},
   "source": [
    "In JavaScript:\n",
    "\n",
    "```javascript\n",
    "// JavaScript\n",
    "console.log(1 == '1');  // true (loose equality with type coercion)\n",
    "console.log(1 === '1');  // false (strict equality, no type coercion)\n",
    "console.log(1 == true);  // true\n",
    "console.log(1 === true);  // false"
   ]
  },
  {
   "cell_type": "markdown",
   "metadata": {},
   "source": [
    "## 4. Strings in Python\n",
    "\n",
    "### 4.1 String Literals\n",
    "\n",
    "Python supports single quotes ('), double quotes (\"), and triple quotes (''' or \"\"\") for string literals."
   ]
  },
  {
   "cell_type": "code",
   "execution_count": null,
   "metadata": {},
   "outputs": [],
   "source": [
    "\n",
    "single_quoted = 'Hello, World!'\n",
    "double_quoted = \"Python is fun\"\n",
    "multi_line = '''This is a\n",
    "multi-line string'''\n",
    "\n",
    "print(single_quoted)\n",
    "print(double_quoted)\n",
    "print(multi_line)"
   ]
  },
  {
   "cell_type": "markdown",
   "metadata": {},
   "source": [
    "### 4.2 String Indexing and Slicing\n",
    "\n",
    "Python provides powerful and flexible ways to access individual characters and substrings through indexing and slicing.\n",
    "\n",
    "#### Indexing\n",
    "\n",
    "In Python, string indexing starts at 0 for the first character. You can also use negative indices, which count from the end of the string. The last character has an index of -1, the second-to-last -2, and so on.\n",
    "\n"
   ]
  },
  {
   "cell_type": "code",
   "execution_count": null,
   "metadata": {},
   "outputs": [],
   "source": [
    "text = \"Python\"\n",
    "print(text[0])    # First character\n",
    "print(text[-1])   # Last character\n",
    "print(text[1:4])  # Substring from index 1 to 3\n",
    "print(text[::-1]) # Reverse the string"
   ]
  },
  {
   "cell_type": "markdown",
   "metadata": {},
   "source": [
    "#### Slicing\n",
    "\n",
    "Slicing allows you to extract a portion of the string. The basic syntax is string[start:end], where start is inclusive and end is exclusive. If you omit start, it defaults to the beginning of the string. If you omit end, it defaults to the end of the string."
   ]
  },
  {
   "cell_type": "code",
   "execution_count": null,
   "metadata": {},
   "outputs": [],
   "source": [
    "text = \"Python Programming\"\n",
    "print(text[0:6])   # \"Python\"\n",
    "print(text[:6])    # \"Python\" (omitting start index)\n",
    "print(text[7:])    # \"Programming\" (omitting end index)\n",
    "print(text[:])     # \"Python Programming\" (entire string)"
   ]
  },
  {
   "cell_type": "markdown",
   "metadata": {},
   "source": [
    "You can also use negative indices in slicing:"
   ]
  },
  {
   "cell_type": "code",
   "execution_count": null,
   "metadata": {},
   "outputs": [],
   "source": [
    "print(text[-11:])  # \"Programming\" (last 11 characters)\n",
    "print(text[:-7])   # \"Python Progr\" (everything except last 7 characters)"
   ]
  },
  {
   "cell_type": "markdown",
   "metadata": {},
   "source": [
    "#### Step Argument\n",
    "\n",
    "Slicing in Python actually takes a third, optional argument: the step. The full syntax is string[start:end:step]. The step defines the increment between each character in the slice."
   ]
  },
  {
   "cell_type": "code",
   "execution_count": null,
   "metadata": {},
   "outputs": [],
   "source": [
    "text = \"Python Programming\"\n",
    "print(text[::2])    # \"Pto rgamn\" (every second character)\n",
    "print(text[1::2])   # \"yhoPormig\" (every second character, starting from index 1)\n",
    "print(text[::-1])   # \"gnimmargorP nohtyP\" (reverse the string)\n",
    "print(text[::3])    # \"Ph rmin\" (every third character)"
   ]
  },
  {
   "cell_type": "markdown",
   "metadata": {},
   "source": [
    "A negative step value means traversing the string from right to left:"
   ]
  },
  {
   "cell_type": "code",
   "execution_count": null,
   "metadata": {},
   "outputs": [],
   "source": [
    "print(text[10:0:-1])  # \"rgorP noh\" (from index 10 to 1, moving backwards)"
   ]
  },
  {
   "cell_type": "markdown",
   "metadata": {},
   "source": [
    "This flexible slicing syntax allows for powerful string manipulation in Python, enabling you to easily extract, reverse, or skip through parts of a string as needed.\n",
    "\n"
   ]
  },
  {
   "cell_type": "markdown",
   "metadata": {},
   "source": [
    "### String Methods\n",
    "\n",
    "Python provides various built-in methods for string manipulation:"
   ]
  },
  {
   "cell_type": "code",
   "execution_count": null,
   "metadata": {},
   "outputs": [],
   "source": [
    "s = \"  Hello, World!  \"\n",
    "print(s.upper())\n",
    "print(s.lower())\n",
    "print(s.strip())\n",
    "print(s.replace(\"Hello\", \"Goodbye\"))\n",
    "print(s.split(\",\"))"
   ]
  },
  {
   "cell_type": "markdown",
   "metadata": {},
   "source": [
    "### 4.3 String Formatting\n",
    "\n",
    "Python offers several ways to format strings, but f-strings (formatted string literals) introduced in Python 3.6 are the most concise and readable method. They provide a powerful way to embed expressions inside string literals.\n",
    "\n",
    "#### Basic Syntax\n",
    "\n",
    "F-strings are created by prefixing a string with the letter 'f' or 'F'. Inside the string, you can include Python expressions inside curly braces {}. These expressions are evaluated at runtime and then formatted into the string.\n",
    "\n"
   ]
  },
  {
   "cell_type": "code",
   "execution_count": null,
   "metadata": {},
   "outputs": [],
   "source": [
    "name = \"Alice\"\n",
    "age = 30\n",
    "print(f\"My name is {name} and I am {age} years old.\")"
   ]
  },
  {
   "cell_type": "markdown",
   "metadata": {},
   "source": [
    "This is similar to JavaScript's template literals:\n",
    "\n",
    "```javascript\n",
    "// JavaScript\n",
    "const name = \"Alice\";\n",
    "const age = 30;\n",
    "console.log(`My name is ${name} and I am ${age} years old.`);"
   ]
  },
  {
   "cell_type": "markdown",
   "metadata": {},
   "source": [
    "### Expressions in f-strings\n",
    "\n",
    "You can put any valid Python expression inside the curly braces:"
   ]
  },
  {
   "cell_type": "code",
   "execution_count": null,
   "metadata": {},
   "outputs": [],
   "source": [
    "x = 10\n",
    "y = 20\n",
    "print(f\"The sum of {x} and {y} is {x + y}\")\n",
    "# Output: The sum of 10 and 20 is 30\n",
    "\n",
    "print(f\"The value of pi is approximately {22 / 7:.2f}\")\n",
    "# Output: The value of pi is approximately 3.14"
   ]
  },
  {
   "cell_type": "markdown",
   "metadata": {},
   "source": [
    "### Formatting Options\n",
    "\n",
    "F-strings support all the formatting options available in Python's str.format() method. You can specify width, precision, alignment, and more:"
   ]
  },
  {
   "cell_type": "code",
   "execution_count": null,
   "metadata": {},
   "outputs": [],
   "source": [
    "name = \"Bob\"\n",
    "score = 91.5\n",
    "\n",
    "print(f\"Name: {name:10}\")  # Width of 10\n",
    "# Output: Name: Bob       \n",
    "\n",
    "print(f\"Score: {score:.1f}\")  # One decimal place\n",
    "# Output: Score: 91.5\n",
    "\n",
    "print(f\"Score: {score:7.2f}\")  # Width of 7, two decimal places\n",
    "# Output: Score:   91.50\n",
    "\n",
    "print(f\"Binary: {42:b}\")  # Binary representation\n",
    "# Output: Binary: 101010"
   ]
  },
  {
   "cell_type": "markdown",
   "metadata": {},
   "source": [
    "#### Date Formatting\n",
    "F-strings make it easy to format dates:"
   ]
  },
  {
   "cell_type": "code",
   "execution_count": null,
   "metadata": {},
   "outputs": [],
   "source": [
    "import datetime\n",
    "\n",
    "now = datetime.datetime.now()\n",
    "print(f\"Current date and time: {now:%Y-%m-%d %H:%M:%S}\")\n",
    "# Output: Current date and time: 2023-05-15 14:30:00"
   ]
  },
  {
   "cell_type": "markdown",
   "metadata": {},
   "source": [
    "#### Multiline f-strings\n",
    "\n",
    "You can use f-strings with triple quotes for multiline strings:"
   ]
  },
  {
   "cell_type": "code",
   "execution_count": null,
   "metadata": {},
   "outputs": [],
   "source": [
    "name = \"Charlie\"\n",
    "age = 25\n",
    "occupation = \"developer\"\n",
    "\n",
    "info = f\"\"\"\n",
    "Name: {name}\n",
    "Age: {age}\n",
    "Occupation: {occupation}\n",
    "\"\"\"\n",
    "print(info)\n",
    "# Output:\n",
    "# Name: Charlie\n",
    "# Age: 25\n",
    "# Occupation: developer"
   ]
  },
  {
   "cell_type": "markdown",
   "metadata": {},
   "source": [
    "#### Immutable Nature of Strings\n",
    "\n",
    "Strings in Python are immutable, meaning they cannot be changed after creation. Any operation that seems to modify a string actually creates a new string object. This behavior is the same in JavaScript."
   ]
  },
  {
   "cell_type": "code",
   "execution_count": null,
   "metadata": {},
   "outputs": [],
   "source": [
    "\n",
    "s = \"hello\"\n",
    "# This doesn't modify 's', it creates a new string\n",
    "new_s = s.upper()\n",
    "print(s)     # Still \"hello\"\n",
    "print(new_s) # \"HELLO\""
   ]
  },
  {
   "cell_type": "markdown",
   "metadata": {},
   "source": [
    "Similarly in JavaScript:\n",
    "\n",
    "```javascript\n",
    "// JavaScript\n",
    "let s = \"hello\";\n",
    "let newS = s.toUpperCase();\n",
    "console.log(s);     // Still \"hello\"\n",
    "console.log(newS);  // \"HELLO\"\n",
    "\n",
    "```"
   ]
  },
  {
   "cell_type": "markdown",
   "metadata": {},
   "source": [
    "## Conclusion\n",
    "\n",
    "In this lesson, we've covered the fundamental concepts of variables, data types, booleans, and strings in Python, drawing comparisons with JavaScript to help you transition between the two languages. We've explored:\n",
    "\n",
    "1. How variables are declared and used in Python's dynamic typing system\n",
    "2. Python's basic data types, including numbers (integers and floats)\n",
    "3. The nuances of boolean values and truthiness in Python\n",
    "4. The powerful string manipulation capabilities in Python, including indexing, slicing, and formatting\n",
    "\n",
    "Understanding these basics is crucial for building a strong foundation in Python programming. As you continue your journey, you'll find that these concepts form the building blocks for more advanced Python features and applications.\n",
    "\n",
    "### Test Your Knowledge\n",
    "\n",
    "To reinforce what you've learned and identify areas for further study, we encourage you to test your knowledge. You can find interactive Python exercises at the following link:\n",
    "\n",
    "[Python Basics Practice]()\n",
    "\n"
   ]
  }
 ],
 "metadata": {
  "language_info": {
   "name": "python"
  }
 },
 "nbformat": 4,
 "nbformat_minor": 2
}
